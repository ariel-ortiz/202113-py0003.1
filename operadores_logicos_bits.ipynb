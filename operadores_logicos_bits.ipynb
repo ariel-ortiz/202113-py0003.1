{
  "nbformat": 4,
  "nbformat_minor": 0,
  "metadata": {
    "colab": {
      "name": "operadores_logicos_bits.ipynb",
      "provenance": [],
      "collapsed_sections": [
        "Tso2G_0k1nlr"
      ],
      "toc_visible": true,
      "authorship_tag": "ABX9TyNUIsoH39fIKf+yKxcSUtxJ",
      "include_colab_link": true
    },
    "kernelspec": {
      "name": "python3",
      "display_name": "Python 3"
    },
    "language_info": {
      "name": "python"
    }
  },
  "cells": [
    {
      "cell_type": "markdown",
      "metadata": {
        "id": "view-in-github",
        "colab_type": "text"
      },
      "source": [
        "<a href=\"https://colab.research.google.com/github/ariel-ortiz/202113-py0003.1/blob/main/operadores_logicos_bits.ipynb\" target=\"_parent\"><img src=\"https://colab.research.google.com/assets/colab-badge.svg\" alt=\"Open In Colab\"/></a>"
      ]
    },
    {
      "cell_type": "markdown",
      "metadata": {
        "id": "acRbMXI9zuJT"
      },
      "source": [
        "# Repaso de operadores lógicos y de manipulación de bits"
      ]
    },
    {
      "cell_type": "markdown",
      "metadata": {
        "id": "L7ygzsPkz81H"
      },
      "source": [
        "## Ver la versión de Python"
      ]
    },
    {
      "cell_type": "code",
      "metadata": {
        "colab": {
          "base_uri": "https://localhost:8080/"
        },
        "id": "R9E2Rm3xxpSP",
        "outputId": "8709546e-9137-4044-c874-628acdae262a"
      },
      "source": [
        "import sys\n",
        "sys.version_info"
      ],
      "execution_count": 1,
      "outputs": [
        {
          "output_type": "execute_result",
          "data": {
            "text/plain": [
              "sys.version_info(major=3, minor=7, micro=12, releaselevel='final', serial=0)"
            ]
          },
          "metadata": {},
          "execution_count": 1
        }
      ]
    },
    {
      "cell_type": "markdown",
      "metadata": {
        "id": "hzHobdhs0EX0"
      },
      "source": [
        "## Operadores lógicos\n",
        "\n",
        "* `and`   \n",
        "* `or`\n",
        "* `not`\n",
        "\n"
      ]
    },
    {
      "cell_type": "markdown",
      "metadata": {
        "id": "FIBW37GT0nJ1"
      },
      "source": [
        "### Operador `and`"
      ]
    },
    {
      "cell_type": "code",
      "metadata": {
        "colab": {
          "base_uri": "https://localhost:8080/"
        },
        "id": "9pN6GJ7wzH-V",
        "outputId": "de73b0cc-c20e-4a9b-d988-1c7a32b6cca5"
      },
      "source": [
        "print(f'False and False = {False and False}')\n",
        "print(f'False and True = {False and True}')\n",
        "print(f'True and False = {True and False}')\n",
        "print(f'True and True = {True and True}')"
      ],
      "execution_count": 2,
      "outputs": [
        {
          "output_type": "stream",
          "name": "stdout",
          "text": [
            "False and False = False\n",
            "False and True = False\n",
            "True and False = False\n",
            "True and True = True\n"
          ]
        }
      ]
    },
    {
      "cell_type": "markdown",
      "metadata": {
        "id": "87rk7luH1r0W"
      },
      "source": [
        "### Operador `or`"
      ]
    },
    {
      "cell_type": "code",
      "metadata": {
        "colab": {
          "base_uri": "https://localhost:8080/"
        },
        "id": "nQJ6WOqv1r0Y",
        "outputId": "86f6f440-44bb-4df9-ffa7-7adb56517653"
      },
      "source": [
        "print(f'False or False = {False or False}')\n",
        "print(f'False or True = {False or True}')\n",
        "print(f'True or False = {True or False}')\n",
        "print(f'True or True = {True or True}')"
      ],
      "execution_count": 3,
      "outputs": [
        {
          "output_type": "stream",
          "name": "stdout",
          "text": [
            "False or False = False\n",
            "False or True = True\n",
            "True or False = True\n",
            "True or True = True\n"
          ]
        }
      ]
    },
    {
      "cell_type": "markdown",
      "metadata": {
        "id": "m0H0ULAuAM27"
      },
      "source": [
        "### Operador `xor`"
      ]
    },
    {
      "cell_type": "code",
      "metadata": {
        "colab": {
          "base_uri": "https://localhost:8080/"
        },
        "id": "luZlyl8GAM29",
        "outputId": "6826fcf1-03aa-4623-cc4a-6533759d4488"
      },
      "source": [
        "print(f'False ^ False = {False ^ False}')\n",
        "print(f'False ^ True = {False ^ True}')\n",
        "print(f'True ^ False = {True ^ False}')\n",
        "print(f'True ^ True = {True ^ True}')"
      ],
      "execution_count": 4,
      "outputs": [
        {
          "output_type": "stream",
          "name": "stdout",
          "text": [
            "False ^ False = False\n",
            "False ^ True = True\n",
            "True ^ False = True\n",
            "True ^ True = False\n"
          ]
        }
      ]
    },
    {
      "cell_type": "markdown",
      "metadata": {
        "id": "sGVv-nqn2jJK"
      },
      "source": [
        "### Operador `not`"
      ]
    },
    {
      "cell_type": "code",
      "metadata": {
        "colab": {
          "base_uri": "https://localhost:8080/"
        },
        "id": "D2TA7RYr2jJL",
        "outputId": "4b735ead-f8b3-40b3-c3ec-07125799040e"
      },
      "source": [
        "print(f'not False = {not False}')\n",
        "print(f'not True = {not True}')"
      ],
      "execution_count": 5,
      "outputs": [
        {
          "output_type": "stream",
          "name": "stdout",
          "text": [
            "not False = True\n",
            "not True = False\n"
          ]
        }
      ]
    },
    {
      "cell_type": "markdown",
      "metadata": {
        "id": "RkenTlyq__hI"
      },
      "source": [
        "## Convieriendo a booleano"
      ]
    },
    {
      "cell_type": "code",
      "metadata": {
        "colab": {
          "base_uri": "https://localhost:8080/"
        },
        "id": "wREMMAdc1ayZ",
        "outputId": "af6983cb-62ba-4c26-ace3-c5a3e8d4284a"
      },
      "source": [
        "bool(0)"
      ],
      "execution_count": 6,
      "outputs": [
        {
          "output_type": "execute_result",
          "data": {
            "text/plain": [
              "False"
            ]
          },
          "metadata": {},
          "execution_count": 6
        }
      ]
    },
    {
      "cell_type": "code",
      "metadata": {
        "colab": {
          "base_uri": "https://localhost:8080/"
        },
        "id": "_5EEtPCv39fd",
        "outputId": "c1f063c2-6e77-4437-c207-0395de2c0eeb"
      },
      "source": [
        "bool(42)"
      ],
      "execution_count": 7,
      "outputs": [
        {
          "output_type": "execute_result",
          "data": {
            "text/plain": [
              "True"
            ]
          },
          "metadata": {},
          "execution_count": 7
        }
      ]
    },
    {
      "cell_type": "code",
      "metadata": {
        "colab": {
          "base_uri": "https://localhost:8080/"
        },
        "id": "-igKl3Tt3_U2",
        "outputId": "963d4e72-9790-44ac-b69b-2644957fb81a"
      },
      "source": [
        "bool([])"
      ],
      "execution_count": 8,
      "outputs": [
        {
          "output_type": "execute_result",
          "data": {
            "text/plain": [
              "False"
            ]
          },
          "metadata": {},
          "execution_count": 8
        }
      ]
    },
    {
      "cell_type": "code",
      "metadata": {
        "colab": {
          "base_uri": "https://localhost:8080/"
        },
        "id": "NPQkVtbw4LGn",
        "outputId": "2360a6da-0f72-4319-de1c-d8ef80a34bec"
      },
      "source": [
        "bool([1, 2, 3])"
      ],
      "execution_count": 9,
      "outputs": [
        {
          "output_type": "execute_result",
          "data": {
            "text/plain": [
              "True"
            ]
          },
          "metadata": {},
          "execution_count": 9
        }
      ]
    },
    {
      "cell_type": "code",
      "metadata": {
        "colab": {
          "base_uri": "https://localhost:8080/"
        },
        "id": "HcBL8KGy4NVh",
        "outputId": "343c925e-bda4-4e48-f444-4fa62c720d66"
      },
      "source": [
        "a = [1, 2, 3]\n",
        "if len(a) > 0:\n",
        "    print('Lista no vacía')\n",
        "if a:\n",
        "    print('Lista no vacía')"
      ],
      "execution_count": 10,
      "outputs": [
        {
          "output_type": "stream",
          "name": "stdout",
          "text": [
            "Lista no vacía\n",
            "Lista no vacía\n"
          ]
        }
      ]
    },
    {
      "cell_type": "code",
      "metadata": {
        "colab": {
          "base_uri": "https://localhost:8080/"
        },
        "id": "WbbAlXNb4ih0",
        "outputId": "e1c01223-1eb1-4420-dbf5-1507a70ae8cc"
      },
      "source": [
        "def hola():\n",
        "    print(\"hola mundo\")\n",
        "    return True\n",
        "\n",
        "if hola():\n",
        "    print(\"fue verdadero\")"
      ],
      "execution_count": 11,
      "outputs": [
        {
          "output_type": "stream",
          "name": "stdout",
          "text": [
            "hola mundo\n",
            "fue verdadero\n"
          ]
        }
      ]
    },
    {
      "cell_type": "markdown",
      "metadata": {
        "id": "Ozyp5p9EAehn"
      },
      "source": [
        "## Evaluación de corto circuito"
      ]
    },
    {
      "cell_type": "code",
      "metadata": {
        "colab": {
          "base_uri": "https://localhost:8080/"
        },
        "id": "zLdCmadk5Kj-",
        "outputId": "59ee4986-ffc9-4395-f412-275cbaaf58fb"
      },
      "source": [
        "def siempre_verdadero():\n",
        "    print(\"Siempre veradadero\")\n",
        "    return True\n",
        "\n",
        "def siempre_falso():\n",
        "    print(\"Siempre falso\")\n",
        "    return False\n",
        "\n",
        "print('Operador AND')\n",
        "print(siempre_falso() and siempre_falso())\n",
        "print()\n",
        "print(siempre_falso() and siempre_verdadero())\n",
        "print()\n",
        "print(siempre_verdadero() and siempre_falso())\n",
        "print()\n",
        "print(siempre_verdadero() and siempre_verdadero())\n",
        "print()\n",
        "\n",
        "print('Operador OR')\n",
        "print(siempre_falso() or siempre_falso())\n",
        "print()\n",
        "print(siempre_falso() or siempre_verdadero())\n",
        "print()\n",
        "print(siempre_verdadero() or siempre_falso())\n",
        "print()\n",
        "print(siempre_verdadero() or siempre_verdadero())\n",
        "print()"
      ],
      "execution_count": 12,
      "outputs": [
        {
          "output_type": "stream",
          "name": "stdout",
          "text": [
            "Operador AND\n",
            "Siempre falso\n",
            "False\n",
            "\n",
            "Siempre falso\n",
            "False\n",
            "\n",
            "Siempre veradadero\n",
            "Siempre falso\n",
            "False\n",
            "\n",
            "Siempre veradadero\n",
            "Siempre veradadero\n",
            "True\n",
            "\n",
            "Operador OR\n",
            "Siempre falso\n",
            "Siempre falso\n",
            "False\n",
            "\n",
            "Siempre falso\n",
            "Siempre veradadero\n",
            "True\n",
            "\n",
            "Siempre veradadero\n",
            "True\n",
            "\n",
            "Siempre veradadero\n",
            "True\n",
            "\n"
          ]
        }
      ]
    },
    {
      "cell_type": "code",
      "metadata": {
        "colab": {
          "base_uri": "https://localhost:8080/"
        },
        "id": "7sN8FbzD7rYO",
        "outputId": "d0043e22-1a0d-42d8-b57d-d99c494c729e"
      },
      "source": [
        "1 and 2 and 3 and False"
      ],
      "execution_count": 13,
      "outputs": [
        {
          "output_type": "execute_result",
          "data": {
            "text/plain": [
              "False"
            ]
          },
          "metadata": {},
          "execution_count": 13
        }
      ]
    },
    {
      "cell_type": "code",
      "metadata": {
        "colab": {
          "base_uri": "https://localhost:8080/"
        },
        "id": "hEgdlbru7tUy",
        "outputId": "29660756-a205-4b6d-ca18-af9382bcbe00"
      },
      "source": [
        "1 and 42 and 3 and 4"
      ],
      "execution_count": 14,
      "outputs": [
        {
          "output_type": "execute_result",
          "data": {
            "text/plain": [
              "4"
            ]
          },
          "metadata": {},
          "execution_count": 14
        }
      ]
    },
    {
      "cell_type": "code",
      "metadata": {
        "colab": {
          "base_uri": "https://localhost:8080/"
        },
        "id": "R9ZCldDN8TpW",
        "outputId": "3bb48c0e-e2c8-4410-9c75-52dd15a7b40e"
      },
      "source": [
        "False or 0 or 3 or 4"
      ],
      "execution_count": 15,
      "outputs": [
        {
          "output_type": "execute_result",
          "data": {
            "text/plain": [
              "3"
            ]
          },
          "metadata": {},
          "execution_count": 15
        }
      ]
    },
    {
      "cell_type": "code",
      "metadata": {
        "colab": {
          "base_uri": "https://localhost:8080/"
        },
        "id": "hWQU3zqW8uvL",
        "outputId": "f5b5d591-ea8b-4fa2-8a56-70c786e05a27"
      },
      "source": [
        "False or None or 0 or []"
      ],
      "execution_count": 16,
      "outputs": [
        {
          "output_type": "execute_result",
          "data": {
            "text/plain": [
              "[]"
            ]
          },
          "metadata": {},
          "execution_count": 16
        }
      ]
    },
    {
      "cell_type": "markdown",
      "metadata": {
        "id": "u5zog0GfIOzd"
      },
      "source": [
        "## Operadores de manipulación de bits"
      ]
    },
    {
      "cell_type": "markdown",
      "metadata": {
        "id": "u4MNmF0FIiBS"
      },
      "source": [
        "### Operador `&` (AND)"
      ]
    },
    {
      "cell_type": "code",
      "metadata": {
        "colab": {
          "base_uri": "https://localhost:8080/"
        },
        "id": "0qpJ8dpFImxP",
        "outputId": "2e6037db-3831-4b1f-9755-356d18b8c472"
      },
      "source": [
        "14 & 9"
      ],
      "execution_count": 17,
      "outputs": [
        {
          "output_type": "execute_result",
          "data": {
            "text/plain": [
              "8"
            ]
          },
          "metadata": {},
          "execution_count": 17
        }
      ]
    },
    {
      "cell_type": "code",
      "metadata": {
        "colab": {
          "base_uri": "https://localhost:8080/",
          "height": 36
        },
        "id": "P3Yqlsv5It9j",
        "outputId": "74ebb0ff-dadb-47c4-8983-2753517ddc45"
      },
      "source": [
        "bin(14)"
      ],
      "execution_count": 18,
      "outputs": [
        {
          "output_type": "execute_result",
          "data": {
            "application/vnd.google.colaboratory.intrinsic+json": {
              "type": "string"
            },
            "text/plain": [
              "'0b1110'"
            ]
          },
          "metadata": {},
          "execution_count": 18
        }
      ]
    },
    {
      "cell_type": "code",
      "metadata": {
        "colab": {
          "base_uri": "https://localhost:8080/",
          "height": 36
        },
        "id": "NkEhtPLdI2XP",
        "outputId": "e1e379c4-4d84-4945-b556-ab71778a165b"
      },
      "source": [
        "bin(9)"
      ],
      "execution_count": 19,
      "outputs": [
        {
          "output_type": "execute_result",
          "data": {
            "application/vnd.google.colaboratory.intrinsic+json": {
              "type": "string"
            },
            "text/plain": [
              "'0b1001'"
            ]
          },
          "metadata": {},
          "execution_count": 19
        }
      ]
    },
    {
      "cell_type": "markdown",
      "metadata": {
        "id": "ZTyPulx4I92F"
      },
      "source": [
        "```\n",
        "14d = 1110b\n",
        "09d = 1001b\n",
        "-----------\n",
        "08d = 1000b\n",
        "```"
      ]
    },
    {
      "cell_type": "markdown",
      "metadata": {
        "id": "wSbLvUnFKIXV"
      },
      "source": [
        "### Operador `|` (OR)"
      ]
    },
    {
      "cell_type": "code",
      "metadata": {
        "colab": {
          "base_uri": "https://localhost:8080/"
        },
        "id": "d_GnwtRrKIXW",
        "outputId": "084a8d19-7783-4dad-e504-352f85545f26"
      },
      "source": [
        "14 | 9"
      ],
      "execution_count": 20,
      "outputs": [
        {
          "output_type": "execute_result",
          "data": {
            "text/plain": [
              "15"
            ]
          },
          "metadata": {},
          "execution_count": 20
        }
      ]
    },
    {
      "cell_type": "code",
      "metadata": {
        "colab": {
          "base_uri": "https://localhost:8080/",
          "height": 36
        },
        "id": "VBYzem8rKIXY",
        "outputId": "59418bcb-9c59-4d42-cddb-fff9b3260ef6"
      },
      "source": [
        "bin(14)"
      ],
      "execution_count": 21,
      "outputs": [
        {
          "output_type": "execute_result",
          "data": {
            "application/vnd.google.colaboratory.intrinsic+json": {
              "type": "string"
            },
            "text/plain": [
              "'0b1110'"
            ]
          },
          "metadata": {},
          "execution_count": 21
        }
      ]
    },
    {
      "cell_type": "code",
      "metadata": {
        "colab": {
          "base_uri": "https://localhost:8080/",
          "height": 36
        },
        "id": "souAtgduKIXZ",
        "outputId": "7c5ce472-1b4f-43e8-f308-49138399656d"
      },
      "source": [
        "bin(9)"
      ],
      "execution_count": 22,
      "outputs": [
        {
          "output_type": "execute_result",
          "data": {
            "application/vnd.google.colaboratory.intrinsic+json": {
              "type": "string"
            },
            "text/plain": [
              "'0b1001'"
            ]
          },
          "metadata": {},
          "execution_count": 22
        }
      ]
    },
    {
      "cell_type": "markdown",
      "metadata": {
        "id": "SdpIY00GKIXa"
      },
      "source": [
        "```\n",
        "14d = 1110b\n",
        "09d = 1001b\n",
        "-----------\n",
        "15d = 1111b\n",
        "```"
      ]
    },
    {
      "cell_type": "markdown",
      "metadata": {
        "id": "aX2aJs-RKomv"
      },
      "source": [
        "### Operador `^` (XOR)"
      ]
    },
    {
      "cell_type": "code",
      "metadata": {
        "colab": {
          "base_uri": "https://localhost:8080/"
        },
        "id": "JWueDwX_Komw",
        "outputId": "60a3376f-9317-4be1-cad2-f7dd592201d9"
      },
      "source": [
        "14 ^ 9"
      ],
      "execution_count": 23,
      "outputs": [
        {
          "output_type": "execute_result",
          "data": {
            "text/plain": [
              "7"
            ]
          },
          "metadata": {},
          "execution_count": 23
        }
      ]
    },
    {
      "cell_type": "code",
      "metadata": {
        "colab": {
          "base_uri": "https://localhost:8080/",
          "height": 36
        },
        "id": "4bm9MHxeKomx",
        "outputId": "a531f5b9-adb8-46ee-d03d-7a048af53bfd"
      },
      "source": [
        "bin(14)"
      ],
      "execution_count": 24,
      "outputs": [
        {
          "output_type": "execute_result",
          "data": {
            "application/vnd.google.colaboratory.intrinsic+json": {
              "type": "string"
            },
            "text/plain": [
              "'0b1110'"
            ]
          },
          "metadata": {},
          "execution_count": 24
        }
      ]
    },
    {
      "cell_type": "code",
      "metadata": {
        "colab": {
          "base_uri": "https://localhost:8080/",
          "height": 36
        },
        "id": "hbWBaUwvKomy",
        "outputId": "f8b59b1c-0173-44ae-dea9-4c8d703688a8"
      },
      "source": [
        "bin(9)"
      ],
      "execution_count": 25,
      "outputs": [
        {
          "output_type": "execute_result",
          "data": {
            "application/vnd.google.colaboratory.intrinsic+json": {
              "type": "string"
            },
            "text/plain": [
              "'0b1001'"
            ]
          },
          "metadata": {},
          "execution_count": 25
        }
      ]
    },
    {
      "cell_type": "markdown",
      "metadata": {
        "id": "JxHoXh_TKom0"
      },
      "source": [
        "```\n",
        "14d = 1110b\n",
        "09d = 1001b\n",
        "-----------\n",
        "07d = 0111b\n",
        "```"
      ]
    },
    {
      "cell_type": "markdown",
      "metadata": {
        "id": "aZtX375dLG6i"
      },
      "source": [
        "### Operador `~` (NOT)"
      ]
    },
    {
      "cell_type": "code",
      "metadata": {
        "colab": {
          "base_uri": "https://localhost:8080/"
        },
        "id": "Qb28owumLG6j",
        "outputId": "9d9972bc-6981-4b84-952b-7aea0545a303"
      },
      "source": [
        "~5"
      ],
      "execution_count": 26,
      "outputs": [
        {
          "output_type": "execute_result",
          "data": {
            "text/plain": [
              "-6"
            ]
          },
          "metadata": {},
          "execution_count": 26
        }
      ]
    },
    {
      "cell_type": "code",
      "metadata": {
        "colab": {
          "base_uri": "https://localhost:8080/",
          "height": 36
        },
        "id": "82XaFys0LG6l",
        "outputId": "4a32a72a-4dd4-4fa4-d61b-6e365d9a564e"
      },
      "source": [
        "bin(5)"
      ],
      "execution_count": 27,
      "outputs": [
        {
          "output_type": "execute_result",
          "data": {
            "application/vnd.google.colaboratory.intrinsic+json": {
              "type": "string"
            },
            "text/plain": [
              "'0b101'"
            ]
          },
          "metadata": {},
          "execution_count": 27
        }
      ]
    },
    {
      "cell_type": "markdown",
      "metadata": {
        "id": "8rJZ0q_ULG6n"
      },
      "source": [
        "```\n",
        "05d = 00000101b\n",
        "---------------\n",
        "15d   = 11111010b\n",
        "Comp1 = 00000101b\n",
        "Comp2 =       +1b\n",
        "-----------------\n",
        "        00000110b\n",
        "```"
      ]
    },
    {
      "cell_type": "markdown",
      "metadata": {
        "id": "INtVkibfNhAd"
      },
      "source": [
        "### Operador `<<` (Shift left)\n",
        "\n",
        "```\n",
        "x << n\n",
        "```\n",
        "\n",
        "$$\n",
        "x \\cdot 2^n\n",
        "$$"
      ]
    },
    {
      "cell_type": "code",
      "metadata": {
        "colab": {
          "base_uri": "https://localhost:8080/"
        },
        "id": "6ItafrzHNhAf",
        "outputId": "f59cf01d-8402-4546-9085-861222ee5881"
      },
      "source": [
        " 5 << 3"
      ],
      "execution_count": 28,
      "outputs": [
        {
          "output_type": "execute_result",
          "data": {
            "text/plain": [
              "40"
            ]
          },
          "metadata": {},
          "execution_count": 28
        }
      ]
    },
    {
      "cell_type": "code",
      "metadata": {
        "colab": {
          "base_uri": "https://localhost:8080/",
          "height": 36
        },
        "id": "d9AlsceXNhAj",
        "outputId": "7feb212c-d9fe-4213-bffb-3c66edba1274"
      },
      "source": [
        "bin(5)"
      ],
      "execution_count": 29,
      "outputs": [
        {
          "output_type": "execute_result",
          "data": {
            "application/vnd.google.colaboratory.intrinsic+json": {
              "type": "string"
            },
            "text/plain": [
              "'0b101'"
            ]
          },
          "metadata": {},
          "execution_count": 29
        }
      ]
    },
    {
      "cell_type": "markdown",
      "metadata": {
        "id": "aSZ8pMilNhAk"
      },
      "source": [
        "```\n",
        "05d = 101b\n",
        "---------------\n",
        "40d = 101000b\n",
        "```"
      ]
    },
    {
      "cell_type": "markdown",
      "metadata": {
        "id": "1YeTzWo9Ok7X"
      },
      "source": [
        "### Operador `>>` (Shift right)\n",
        "\n",
        "```\n",
        "x >> n\n",
        "```\n",
        "\n",
        "$$\n",
        "\\frac{x}{2^n}\n",
        "$$"
      ]
    },
    {
      "cell_type": "code",
      "metadata": {
        "colab": {
          "base_uri": "https://localhost:8080/"
        },
        "id": "R0gjtFpHOk7Z",
        "outputId": "5d1e93f5-f680-48fd-aa74-b1b4c5ada68a"
      },
      "source": [
        " 50 >> 2"
      ],
      "execution_count": 30,
      "outputs": [
        {
          "output_type": "execute_result",
          "data": {
            "text/plain": [
              "12"
            ]
          },
          "metadata": {},
          "execution_count": 30
        }
      ]
    },
    {
      "cell_type": "code",
      "metadata": {
        "colab": {
          "base_uri": "https://localhost:8080/",
          "height": 36
        },
        "id": "dRMN7cojOk7b",
        "outputId": "a4fff94a-fc19-413f-c17b-08bcecbc516c"
      },
      "source": [
        "bin(50)"
      ],
      "execution_count": 31,
      "outputs": [
        {
          "output_type": "execute_result",
          "data": {
            "application/vnd.google.colaboratory.intrinsic+json": {
              "type": "string"
            },
            "text/plain": [
              "'0b110010'"
            ]
          },
          "metadata": {},
          "execution_count": 31
        }
      ]
    },
    {
      "cell_type": "markdown",
      "metadata": {
        "id": "XVTiJ7hjOk7c"
      },
      "source": [
        "```\n",
        "50d = 110010b\n",
        "---------------\n",
        "12d = 001100b\n",
        "```"
      ]
    }
  ]
}